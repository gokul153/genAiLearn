{
 "cells": [
  {
   "cell_type": "code",
   "execution_count": 6,
   "metadata": {},
   "outputs": [],
   "source": [
    "##  open Source models - Llama3 , Gemma2 ,mistral--Groq\n",
    "import os\n",
    "from dotenv  import load_dotenv\n",
    "\n",
    "load_dotenv()\n",
    "import openai\n",
    "openai.api_key = os.getenv(\"OPENAI_API_KEY\")\n",
    "groq_api_key = os.getenv(\"GROQ_API_KEY\")\n"
   ]
  },
  {
   "cell_type": "code",
   "execution_count": 7,
   "metadata": {},
   "outputs": [],
   "source": [
    "from langchain_groq import ChatGroq     \n",
    "model = ChatGroq( model_name=\"gemma2-9b-it\",groq_api_key=groq_api_key)\n",
    "## update api key "
   ]
  },
  {
   "cell_type": "code",
   "execution_count": 8,
   "metadata": {},
   "outputs": [],
   "source": [
    "from langchain_core.messages import HumanMessage , SystemMessage\n",
    "messages = [\n",
    "    SystemMessage(content= \" Transalatr the following from English to French\"),\n",
    "    HumanMessage(\"How are you?\")\n",
    "]"
   ]
  },
  {
   "cell_type": "code",
   "execution_count": 9,
   "metadata": {},
   "outputs": [],
   "source": [
    "result = model.invoke(messages)"
   ]
  },
  {
   "cell_type": "code",
   "execution_count": 10,
   "metadata": {},
   "outputs": [
    {
     "data": {
      "text/plain": [
       "AIMessage(content='The most common translation of \"How are you?\" in French is:\\n\\n**Comment allez-vous ?** (formal)\\n\\nYou can also use:\\n\\n* **Comment vas-tu ?** (informal, used with friends and family)\\n\\n\\nLet me know if you have any other phrases you\\'d like translated! 😊 \\n', additional_kwargs={}, response_metadata={'token_usage': {'completion_tokens': 71, 'prompt_tokens': 22, 'total_tokens': 93, 'completion_time': 0.129090909, 'prompt_time': 0.002144236, 'queue_time': 0.232388704, 'total_time': 0.131235145}, 'model_name': 'gemma2-9b-it', 'system_fingerprint': 'fp_10c08bf97d', 'finish_reason': 'stop', 'logprobs': None}, id='run-373a489b-2f23-4dd8-898a-4fa17b1a5394-0', usage_metadata={'input_tokens': 22, 'output_tokens': 71, 'total_tokens': 93})"
      ]
     },
     "execution_count": 10,
     "metadata": {},
     "output_type": "execute_result"
    }
   ],
   "source": [
    "result"
   ]
  },
  {
   "cell_type": "code",
   "execution_count": 11,
   "metadata": {},
   "outputs": [
    {
     "data": {
      "text/plain": [
       "'The most common translation of \"How are you?\" in French is:\\n\\n**Comment allez-vous ?** (formal)\\n\\nYou can also use:\\n\\n* **Comment vas-tu ?** (informal, used with friends and family)\\n\\n\\nLet me know if you have any other phrases you\\'d like translated! 😊 \\n'"
      ]
     },
     "execution_count": 11,
     "metadata": {},
     "output_type": "execute_result"
    }
   ],
   "source": [
    "from langchain_core.output_parsers import StrOutputParser\n",
    "parser = StrOutputParser()\n",
    "parser.invoke(result)"
   ]
  },
  {
   "cell_type": "code",
   "execution_count": 12,
   "metadata": {},
   "outputs": [
    {
     "data": {
      "text/plain": [
       "\"Comment allez-vous? (formal)\\n\\nOr\\n\\nComment vas-tu? (informal) \\n\\n\\nLet me know if you'd like help translating anything else! 😊\\n\""
      ]
     },
     "execution_count": 12,
     "metadata": {},
     "output_type": "execute_result"
    }
   ],
   "source": [
    "## using LCEL we can chain the components \n",
    "chain = model|parser\n",
    "chain.invoke(messages)"
   ]
  },
  {
   "cell_type": "code",
   "execution_count": null,
   "metadata": {},
   "outputs": [],
   "source": [
    "## promt template\n",
    "from langchain_core.prompts import ChatPromptTemplate\n",
    "generic_template = \"Translate the following into {language}\""
   ]
  }
 ],
 "metadata": {
  "kernelspec": {
   "display_name": "myenv",
   "language": "python",
   "name": "python3"
  },
  "language_info": {
   "codemirror_mode": {
    "name": "ipython",
    "version": 3
   },
   "file_extension": ".py",
   "mimetype": "text/x-python",
   "name": "python",
   "nbconvert_exporter": "python",
   "pygments_lexer": "ipython3",
   "version": "3.11.7"
  }
 },
 "nbformat": 4,
 "nbformat_minor": 2
}
